{
 "cells": [
  {
   "cell_type": "code",
   "execution_count": 1,
   "metadata": {},
   "outputs": [],
   "source": [
    "from __future__ import print_function"
   ]
  },
  {
   "cell_type": "code",
   "execution_count": 2,
   "metadata": {},
   "outputs": [],
   "source": [
    "from lammps import lammps\n",
    "lmp = lammps()"
   ]
  },
  {
   "cell_type": "code",
   "execution_count": 3,
   "metadata": {},
   "outputs": [],
   "source": [
    "lmp.file(\"in.demo\")"
   ]
  },
  {
   "cell_type": "code",
   "execution_count": 4,
   "metadata": {},
   "outputs": [
    {
     "name": "stdout",
     "output_type": "stream",
     "text": [
      "\n",
      "Python output:\n"
     ]
    }
   ],
   "source": [
    "print(\"\\nPython output:\")"
   ]
  },
  {
   "cell_type": "code",
   "execution_count": 5,
   "metadata": {},
   "outputs": [
    {
     "name": "stdout",
     "output_type": "stream",
     "text": [
      "Natoms, mass, x[0][0] coord = 4000 1.0 16.767988851705528\n"
     ]
    }
   ],
   "source": [
    "natoms = lmp.extract_global(\"natoms\",0)\n",
    "mass = lmp.extract_atom(\"mass\",2)\n",
    "x = lmp.extract_atom(\"x\",3)\n",
    "print(\"Natoms, mass, x[0][0] coord =\",natoms,mass[1],x[0][0])"
   ]
  },
  {
   "cell_type": "code",
   "execution_count": 6,
   "metadata": {},
   "outputs": [
    {
     "name": "stdout",
     "output_type": "stream",
     "text": [
      "Temperature from compute = 0.7571533403732014\n"
     ]
    }
   ],
   "source": [
    "temp = lmp.extract_compute(\"thermo_temp\",0,0)\n",
    "print(\"Temperature from compute =\",temp)"
   ]
  },
  {
   "cell_type": "code",
   "execution_count": 7,
   "metadata": {},
   "outputs": [
    {
     "name": "stdout",
     "output_type": "stream",
     "text": [
      "Energy from equal-style variable = -5.758142569688168\n"
     ]
    }
   ],
   "source": [
    "eng = lmp.extract_variable(\"eng\",None,0)\n",
    "print(\"Energy from equal-style variable =\",eng)"
   ]
  },
  {
   "cell_type": "code",
   "execution_count": 8,
   "metadata": {},
   "outputs": [
    {
     "name": "stdout",
     "output_type": "stream",
     "text": [
      "Velocity component from atom-style variable = -1.0131655567386921\n"
     ]
    }
   ],
   "source": [
    "vy = lmp.extract_variable(\"vy\",\"all\",1)\n",
    "print(\"Velocity component from atom-style variable =\",vy[1])"
   ]
  },
  {
   "cell_type": "code",
   "execution_count": 9,
   "metadata": {},
   "outputs": [
    {
     "name": "stdout",
     "output_type": "stream",
     "text": [
      "Volume from get_thermo =  4738.213693437576\n"
     ]
    }
   ],
   "source": [
    "vol = lmp.get_thermo(\"vol\")\n",
    "print(\"Volume from get_thermo = \",vol)"
   ]
  },
  {
   "cell_type": "code",
   "execution_count": 10,
   "metadata": {},
   "outputs": [
    {
     "name": "stdout",
     "output_type": "stream",
     "text": [
      "Natoms from get_natoms = 4000\n"
     ]
    }
   ],
   "source": [
    "natoms = lmp.get_natoms()\n",
    "print(\"Natoms from get_natoms =\",natoms)"
   ]
  },
  {
   "cell_type": "code",
   "execution_count": 11,
   "metadata": {},
   "outputs": [
    {
     "name": "stdout",
     "output_type": "stream",
     "text": [
      "Global coords from gather_atoms = 16.767988851705528 16.621004261651628 0.14158807746974947\n"
     ]
    }
   ],
   "source": [
    "xc = lmp.gather_atoms(\"x\",1,3)\n",
    "print(\"Global coords from gather_atoms =\",xc[0],xc[1],xc[31])"
   ]
  },
  {
   "cell_type": "code",
   "execution_count": 12,
   "metadata": {},
   "outputs": [
    {
     "name": "stdout",
     "output_type": "stream",
     "text": [
      "Changed x[0][0] via scatter_atoms = 17.767988851705528\n"
     ]
    }
   ],
   "source": [
    "xc[0] = xc[0] + 1.0\n",
    "lmp.scatter_atoms(\"x\",1,3,xc)\n",
    "print(\"Changed x[0][0] via scatter_atoms =\",x[0][0])"
   ]
  }
 ],
 "metadata": {
  "kernelspec": {
   "display_name": "Python 3",
   "language": "python",
   "name": "python3"
  },
  "language_info": {
   "codemirror_mode": {
    "name": "ipython",
    "version": 3
   },
   "file_extension": ".py",
   "mimetype": "text/x-python",
   "name": "python",
   "nbconvert_exporter": "python",
   "pygments_lexer": "ipython3",
   "version": "3.7.3"
  }
 },
 "nbformat": 4,
 "nbformat_minor": 2
}
